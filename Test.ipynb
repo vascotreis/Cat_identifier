{
  "nbformat": 4,
  "nbformat_minor": 0,
  "metadata": {
    "colab": {
      "provenance": [],
      "authorship_tag": "ABX9TyOTqtmBjzcuViF5FD3NzKYR",
      "include_colab_link": true
    },
    "kernelspec": {
      "name": "python3",
      "display_name": "Python 3"
    },
    "language_info": {
      "name": "python"
    }
  },
  "cells": [
    {
      "cell_type": "markdown",
      "metadata": {
        "id": "view-in-github",
        "colab_type": "text"
      },
      "source": [
        "<a href=\"https://colab.research.google.com/github/vascotreis/Cat_identifier/blob/main/Test.ipynb\" target=\"_parent\"><img src=\"https://colab.research.google.com/assets/colab-badge.svg\" alt=\"Open In Colab\"/></a>"
      ]
    },
    {
      "cell_type": "code",
      "execution_count": null,
      "metadata": {
        "colab": {
          "base_uri": "https://localhost:8080/"
        },
        "id": "tnyMAURQ9-Mw",
        "outputId": "1b672082-ef63-4030-9cf6-f95293abadf6"
      },
      "outputs": [
        {
          "output_type": "stream",
          "name": "stdout",
          "text": [
            "Mounted at /content/drive\n"
          ]
        }
      ],
      "source": [
        "from google.colab import drive\n",
        "drive.mount('/content/drive')"
      ]
    },
    {
      "cell_type": "code",
      "source": [
        "from keras.models import load_model\n",
        "import numpy as np"
      ],
      "metadata": {
        "id": "jdmC4IVT-Oq0"
      },
      "execution_count": null,
      "outputs": []
    },
    {
      "cell_type": "code",
      "source": [
        "#Load the best model\n",
        "model = load_model('/content/drive/MyDrive/Test_the_Keras/Projecto/best_model.h5')"
      ],
      "metadata": {
        "id": "XiK5uSNB-Oo1"
      },
      "execution_count": null,
      "outputs": []
    },
    {
      "cell_type": "code",
      "source": [
        "import cv2"
      ],
      "metadata": {
        "id": "AvRBoe9m-YGO"
      },
      "execution_count": null,
      "outputs": []
    },
    {
      "cell_type": "code",
      "source": [
        "#Load the image you want to classify\n",
        "# Birman\n",
        "img9 = cv2.imread('/content/drive/MyDrive/Test_the_Keras/Projecto/CATS 2/Birman_79.jpg')\n",
        "# Bengal\n",
        "img2 = cv2.imread('/content/drive/MyDrive/Test_the_Keras/Projecto/CATS 2/Bengal_60.jpg')\n",
        "#Bombay \n",
        "img3 = cv2.imread('/content/drive/MyDrive/Test_the_Keras/Projecto/CATS 2/Bombay_183.jpg')\n",
        "#British\n",
        "img4 = cv2.imread('/content/drive/MyDrive/Test_the_Keras/Projecto/CATS 2/British_Shorthair_45.jpg')\n",
        "#Leia\n",
        "img5 = cv2.imread('/content/drive/MyDrive/Test_the_Keras/Projecto/British_Shortair_150.jpg')"
      ],
      "metadata": {
        "id": "4H2d7EX9-Omq"
      },
      "execution_count": null,
      "outputs": []
    },
    {
      "cell_type": "code",
      "source": [
        "breeds = {0: 'Bengal' ,1: 'Sphynx',2: 'Bombay',3: 'Egyptian',4: 'Persian',5: 'Ragdoll',6: 'Siamese',7: 'Maine',8: 'Birman',9: 'Abyssinian',10: 'Russian',11: 'British'}"
      ],
      "metadata": {
        "id": "fNyy3LFq_DcS"
      },
      "execution_count": null,
      "outputs": []
    },
    {
      "cell_type": "code",
      "source": [
        "def predict_breed(model, image):\n",
        "  \n",
        "  #Convert the image to a numpy array\n",
        "  img = cv2.resize(image, (224, 224))\n",
        "  \n",
        "  #Expand the dimensions of the image to (1, 224, 224, 3)\n",
        "  img = np.expand_dims(img, axis=0)\n",
        "  \n",
        "  result_prob = model.predict(img)\n",
        "  result = result_prob.argmax(axis=-1)\n",
        "\n",
        "  predicted_class_index = np.argmax(result_prob)\n",
        "\n",
        "  #Get the label of the predicted breed\n",
        "  predicted_breed = breeds[predicted_class_index]\n",
        "\n",
        "\n",
        "\n",
        "  print(f\"The predicted breed is : {predicted_breed}\\n\")"
      ],
      "metadata": {
        "id": "WDKXVJNt-Okk"
      },
      "execution_count": null,
      "outputs": []
    },
    {
      "cell_type": "code",
      "source": [
        "# should predict Abyssinian\n",
        "predict_breed(model,img9)\n",
        "# should predict Bengal\n",
        "predict_breed(model,img2)\n",
        "# Should predict Bombay\n",
        "predict_breed(model,img3)\n",
        "# Should predict British_shortair\n",
        "predict_breed(model,img4)\n",
        "#Leis\n",
        "predict_breed(model,img5)"
      ],
      "metadata": {
        "colab": {
          "base_uri": "https://localhost:8080/"
        },
        "id": "ICPoNVvz-OiN",
        "outputId": "e7726d17-231d-4571-f801-a39a8610036b"
      },
      "execution_count": null,
      "outputs": [
        {
          "output_type": "stream",
          "name": "stdout",
          "text": [
            "1/1 [==============================] - 1s 566ms/step\n",
            "The predicted breed is : Birman\n",
            "\n",
            "1/1 [==============================] - 1s 554ms/step\n",
            "The predicted breed is : Bengal\n",
            "\n",
            "1/1 [==============================] - 1s 542ms/step\n",
            "The predicted breed is : Bombay\n",
            "\n",
            "1/1 [==============================] - 1s 536ms/step\n",
            "The predicted breed is : Bengal\n",
            "\n",
            "1/1 [==============================] - 1s 554ms/step\n",
            "The predicted breed is : Birman\n",
            "\n"
          ]
        }
      ]
    },
    {
      "cell_type": "code",
      "source": [],
      "metadata": {
        "id": "CrnhF3K--OgJ"
      },
      "execution_count": null,
      "outputs": []
    },
    {
      "cell_type": "code",
      "source": [],
      "metadata": {
        "id": "AZlt9vNw-Odz"
      },
      "execution_count": null,
      "outputs": []
    }
  ]
}